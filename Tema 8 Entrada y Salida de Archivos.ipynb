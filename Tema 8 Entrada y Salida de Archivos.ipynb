{
 "cells": [
  {
   "cell_type": "code",
   "execution_count": null,
   "id": "c1543c65",
   "metadata": {},
   "outputs": [],
   "source": [
    "#Crear un sistema para leer word, exel, pdf"
   ]
  },
  {
   "cell_type": "code",
   "execution_count": 3,
   "id": "83f09122",
   "metadata": {},
   "outputs": [
    {
     "name": "stdout",
     "output_type": "stream",
     "text": [
      "Requirement already satisfied: PyPDF2 in z:\\archivoprogram\\anaconda\\lib\\site-packages (1.23)\n"
     ]
    }
   ],
   "source": [
    "!pip install PyPDF2"
   ]
  },
  {
   "cell_type": "code",
   "execution_count": 4,
   "id": "e36c2f81",
   "metadata": {},
   "outputs": [
    {
     "name": "stdout",
     "output_type": "stream",
     "text": [
      "Requirement already satisfied: python-docx in z:\\archivoprogram\\anaconda\\lib\\site-packages (1.1.0)\n",
      "Requirement already satisfied: lxml>=3.1.0 in z:\\archivoprogram\\anaconda\\lib\\site-packages (from python-docx) (4.9.3)\n",
      "Requirement already satisfied: typing-extensions in z:\\archivoprogram\\anaconda\\lib\\site-packages (from python-docx) (4.7.1)\n"
     ]
    }
   ],
   "source": [
    "!pip install python-docx"
   ]
  },
  {
   "cell_type": "code",
   "execution_count": 5,
   "id": "30669c76",
   "metadata": {},
   "outputs": [
    {
     "name": "stdout",
     "output_type": "stream",
     "text": [
      "Requirement already satisfied: openpyxl in z:\\archivoprogram\\anaconda\\lib\\site-packages (3.0.10)\n",
      "Requirement already satisfied: et_xmlfile in z:\\archivoprogram\\anaconda\\lib\\site-packages (from openpyxl) (1.1.0)\n"
     ]
    }
   ],
   "source": [
    "!pip install openpyxl"
   ]
  },
  {
   "cell_type": "code",
   "execution_count": 6,
   "id": "e54b2b00",
   "metadata": {},
   "outputs": [],
   "source": [
    "import docx\n",
    "import openpyxl\n",
    "import PyPDF2\n",
    "\n",
    "# .docx\n",
    "def leer_docx(archivo):\n",
    "    doc = docx.Document(archivo)\n",
    "    texto_completo = []\n",
    "    for para in doc.paragraphs:\n",
    "        texto_completo.append(para.text)\n",
    "    return '\\n'.join(texto_completo)\n",
    "\n",
    "#  .xlsx\n",
    "def leer_xlsx(archivo):\n",
    "    wb = openpyxl.load_workbook(archivo)\n",
    "    sheet = wb.active\n",
    "    texto_completo = []\n",
    "    for row in sheet.iter_rows():\n",
    "        for cell in row:\n",
    "            texto_completo.append(str(cell.value))\n",
    "    return '\\n'.join(texto_completo)\n",
    "\n",
    "#  .pdf\n",
    "def leer_pdf(archivo):\n",
    "    with open(archivo, 'rb') as file:\n",
    "        reader = PyPDF2.PdfFileReader(file)\n",
    "        texto_completo = []\n",
    "        for page_num in range(reader.numPages):\n",
    "            page = reader.getPage(page_num)\n",
    "            texto_completo.append(page.extractText())\n",
    "        return '\\n'.join(texto_completo)\n",
    "    "
   ]
  },
  {
   "cell_type": "code",
   "execution_count": 7,
   "id": "c281af4c",
   "metadata": {
    "scrolled": false
   },
   "outputs": [
    {
     "name": "stdout",
     "output_type": "stream",
     "text": [
      "Ingrese el numero del tipo de archivo (docx=1, xlsx=2, pdf=3): 3\n",
      "Ingrese la ruta del archivo: Insignias.pdf\n",
      " \n"
     ]
    }
   ],
   "source": [
    "tipo_archivo = input(\"Ingrese el numero del tipo de archivo (docx=1, xlsx=2, pdf=3): \")\n",
    "ruta_archivo = input(\"Ingrese la ruta del archivo: \")\n",
    "\n",
    "if tipo_archivo == '1':\n",
    "    print(leer_docx(ruta_archivo))\n",
    "elif tipo_archivo == '2':\n",
    "    print(leer_xlsx(ruta_archivo))\n",
    "elif tipo_archivo == '3':\n",
    "    print(leer_pdf(ruta_archivo))\n",
    "else:\n",
    "    print(\"Tipo de archivo no soportado\")"
   ]
  }
 ],
 "metadata": {
  "kernelspec": {
   "display_name": "Python 3 (ipykernel)",
   "language": "python",
   "name": "python3"
  },
  "language_info": {
   "codemirror_mode": {
    "name": "ipython",
    "version": 3
   },
   "file_extension": ".py",
   "mimetype": "text/x-python",
   "name": "python",
   "nbconvert_exporter": "python",
   "pygments_lexer": "ipython3",
   "version": "3.11.5"
  }
 },
 "nbformat": 4,
 "nbformat_minor": 5
}
