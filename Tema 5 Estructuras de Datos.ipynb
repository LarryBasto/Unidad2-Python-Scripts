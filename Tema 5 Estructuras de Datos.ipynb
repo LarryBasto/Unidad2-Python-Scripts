{
 "cells": [
  {
   "cell_type": "code",
   "execution_count": null,
   "id": "36919ee3",
   "metadata": {},
   "outputs": [],
   "source": [
    "# funcion indique que recopile los datos y que me endique la masa corporral etc"
   ]
  },
  {
   "cell_type": "code",
   "execution_count": 4,
   "id": "520ad0b5",
   "metadata": {},
   "outputs": [
    {
     "name": "stdout",
     "output_type": "stream",
     "text": [
      "Larry Basto, estás en sobrepeso: IMC 27.7\n"
     ]
    }
   ],
   "source": [
    "datos = {\n",
    "    \"nombre\": \"Larry Basto\",\n",
    "    \"peso\": 80,\n",
    "    \"altura\": 1.70  \n",
    "}\n",
    "\n",
    "def imc(peso, altura, nombre):\n",
    "    imc_p = peso / (altura**2)  \n",
    "    \n",
    "    if imc_p < 18.5:\n",
    "        print(f\"{nombre}, estás bajo de peso: IMC {round(imc_p, 1)}\")\n",
    "    elif imc_p >= 18.5 and imc_p <= 24.9:\n",
    "        print(f\"{nombre}, estás en un rango de peso normal: IMC {round(imc_p, 1)}\")\n",
    "    elif imc_p >= 25.0 and imc_p <= 29.9:\n",
    "        print(f\"{nombre}, estás en sobrepeso: IMC {round(imc_p, 1)}\")\n",
    "    else:\n",
    "        print(f\"{nombre}, tienes obesidad: IMC {round(imc_p, 1)}\")\n",
    "\n",
    "peso = datos[\"peso\"]\n",
    "altura = datos[\"altura\"]\n",
    "nombre = datos[\"nombre\"]\n",
    "\n",
    "imc(peso, altura, nombre)"
   ]
  },
  {
   "cell_type": "code",
   "execution_count": 1,
   "id": "92368b7a",
   "metadata": {},
   "outputs": [
    {
     "name": "stdout",
     "output_type": "stream",
     "text": [
      "Ingrese su nombre: Larry\n",
      "Ingrese su peso en kilogramos: 80\n",
      "Ingrese su altura en metros: 1.70\n",
      "Larry, estás en sobrepeso: IMC 27.7\n"
     ]
    }
   ],
   "source": [
    "def obtener_datos_usuario():\n",
    "    nombre = input(\"Ingrese su nombre: \")\n",
    "    peso = float(input(\"Ingrese su peso en kilogramos: \"))\n",
    "    altura = float(input(\"Ingrese su altura en metros: \"))\n",
    "    \n",
    "    return {\n",
    "        \"nombre\": nombre,\n",
    "        \"peso\": peso,\n",
    "        \"altura\": altura\n",
    "    }\n",
    "\n",
    "def imc(peso, altura, nombre):\n",
    "    imc_p = peso / (altura**2)  \n",
    "    \n",
    "    if imc_p < 18.5:\n",
    "        print(f\"{nombre}, estás bajo de peso: IMC {round(imc_p, 1)}\")\n",
    "    elif imc_p >= 18.5 and imc_p <= 24.9:\n",
    "        print(f\"{nombre}, estás en un rango de peso normal: IMC {round(imc_p, 1)}\")\n",
    "    elif imc_p >= 25.0 and imc_p <= 29.9:\n",
    "        print(f\"{nombre}, estás en sobrepeso: IMC {round(imc_p, 1)}\")\n",
    "    else:\n",
    "        print(f\"{nombre}, tienes obesidad: IMC {round(imc_p, 1)}\")\n",
    "\n",
    "datos = obtener_datos_usuario()\n",
    "peso = datos[\"peso\"]\n",
    "altura = datos[\"altura\"]\n",
    "nombre = datos[\"nombre\"]\n",
    "\n",
    "imc(peso, altura, nombre)\n"
   ]
  }
 ],
 "metadata": {
  "kernelspec": {
   "display_name": "Python 3 (ipykernel)",
   "language": "python",
   "name": "python3"
  },
  "language_info": {
   "codemirror_mode": {
    "name": "ipython",
    "version": 3
   },
   "file_extension": ".py",
   "mimetype": "text/x-python",
   "name": "python",
   "nbconvert_exporter": "python",
   "pygments_lexer": "ipython3",
   "version": "3.11.5"
  }
 },
 "nbformat": 4,
 "nbformat_minor": 5
}
