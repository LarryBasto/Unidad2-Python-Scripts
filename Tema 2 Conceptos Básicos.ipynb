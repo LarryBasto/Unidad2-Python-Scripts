{
 "cells": [
  {
   "cell_type": "code",
   "execution_count": 1,
   "id": "dfa5b974",
   "metadata": {},
   "outputs": [],
   "source": [
    "def tabla_infinita():\n",
    "    in_rango = int(input(\"ingrese el numero inicial de rango: \"))\n",
    "    fn_rango = int(input(\"ingrese el numero final del rango: \"))\n",
    "    in_tabla = int(input(\"ingrese el numero inical de tabla: \"))\n",
    "    fn_tabla =int(input(\"ingresa el numero final de la tabla: \"))\n",
    "\n",
    "    for i in range (in_rango, fn_rango + 1):\n",
    "        print(F\"Tabla del {i}\")\n",
    "        for j in range(in_tabla, fn_tabla + 1):\n",
    "            print(f\"{i} x {j} = {i*j}\")\n",
    "        print()"
   ]
  },
  {
   "cell_type": "code",
   "execution_count": 2,
   "id": "f080692d",
   "metadata": {
    "scrolled": true
   },
   "outputs": [
    {
     "name": "stdout",
     "output_type": "stream",
     "text": [
      "ingrese el numero inicial de rango: 1\n",
      "ingrese el numero final del rango: 3\n",
      "ingrese el numero inical de tabla: 5\n",
      "ingresa el numero final de la tabla: 10\n",
      "Tabla del 1\n",
      "1 x 5 = 5\n",
      "1 x 6 = 6\n",
      "1 x 7 = 7\n",
      "1 x 8 = 8\n",
      "1 x 9 = 9\n",
      "1 x 10 = 10\n",
      "\n",
      "Tabla del 2\n",
      "2 x 5 = 10\n",
      "2 x 6 = 12\n",
      "2 x 7 = 14\n",
      "2 x 8 = 16\n",
      "2 x 9 = 18\n",
      "2 x 10 = 20\n",
      "\n",
      "Tabla del 3\n",
      "3 x 5 = 15\n",
      "3 x 6 = 18\n",
      "3 x 7 = 21\n",
      "3 x 8 = 24\n",
      "3 x 9 = 27\n",
      "3 x 10 = 30\n",
      "\n"
     ]
    }
   ],
   "source": [
    "tabla_infinita()"
   ]
  }
 ],
 "metadata": {
  "kernelspec": {
   "display_name": "Python 3 (ipykernel)",
   "language": "python",
   "name": "python3"
  },
  "language_info": {
   "codemirror_mode": {
    "name": "ipython",
    "version": 3
   },
   "file_extension": ".py",
   "mimetype": "text/x-python",
   "name": "python",
   "nbconvert_exporter": "python",
   "pygments_lexer": "ipython3",
   "version": "3.11.5"
  }
 },
 "nbformat": 4,
 "nbformat_minor": 5
}
