{
 "cells": [
  {
   "cell_type": "code",
   "execution_count": 1,
   "id": "e8bd28de",
   "metadata": {
    "scrolled": true
   },
   "outputs": [
    {
     "name": "stdout",
     "output_type": "stream",
     "text": [
      "Ingrese el nombre para la orden: Angel\n",
      "\n",
      "Elija una opción:\n",
      "1. Pizza individual\n",
      "2. Combo (Pizza + Bebida)\n",
      "Ingrese 1 para pizza individual o 2 para combo: 2\n",
      "\n",
      "Tipos de pizza disponibles:\n",
      "1. Margarita - $ 10.0\n",
      "2. Hawaiana - $ 12.0\n",
      "3. Pepperoni - $ 11.5\n",
      "4. Vegetariana - $ 13.0\n",
      "Seleccione el tipo de pizza: 1\n",
      "\n",
      "Bebidas disponibles:\n",
      "1. Coca Cola - $5.00\n",
      "2. Pepsi - $5.00\n",
      "3. Sprite - $4.00\n",
      "4. Agua - $1.00\n",
      "Seleccione su bebida: 2\n",
      "\n",
      "---RECIBO--\n",
      "Cliente: Angel\n",
      "Pedido: Combo Pizza Margarita + Bebida Pepsi\n",
      "Total: $15.00\n"
     ]
    }
   ],
   "source": [
    "from Paquetes import modulo1\n",
    "from Paquetes import modulo2\n",
    "from Paquetes import modulo3\n",
    "\n",
    "def sistema_pedido():\n",
    "    nombre = input(\"Ingrese el nombre para la orden: \")\n",
    "    orden = modulo1.agregar_orden(nombre)\n",
    "    total = 0.0\n",
    "    \n",
    "    print(\"\\nElija una opción:\")\n",
    "    print(\"1. Pizza individual\")\n",
    "    print(\"2. Combo (Pizza + Bebida)\")\n",
    "    eleccion = input(\"Ingrese 1 para pizza individual o 2 para combo: \")\n",
    "    \n",
    "    if eleccion == \"1\":\n",
    "        orden['tipo'] = 'pizza'\n",
    "        print(\"\\nTipos de pizza disponibles:\")\n",
    "        pizzas = modulo2.obtener_pizzas()\n",
    "        for i, pizza in enumerate(pizzas, 1):\n",
    "            print(f\"{i}. {pizza['nombre']} - ${pizza['precio']: }\")\n",
    "        eleccion_pizza = int(input(\"Seleccione el tipo de pizza: \"))\n",
    "        orden['pizza'] = pizzas[eleccion_pizza - 1]['nombre']\n",
    "        total += pizzas[eleccion_pizza - 1]['precio']\n",
    "        \n",
    "    elif eleccion == \"2\":\n",
    "        orden['tipo'] = 'combo'\n",
    "        print(\"\\nTipos de pizza disponibles:\")\n",
    "        pizzas = modulo2.obtener_pizzas()\n",
    "        for i, pizza in enumerate(pizzas, 1):\n",
    "            print(f\"{i}. {pizza['nombre']} - ${pizza['precio']: }\")\n",
    "        eleccion_pizza = int(input(\"Seleccione el tipo de pizza: \"))\n",
    "        orden['pizza'] = pizzas[eleccion_pizza - 1]['nombre']\n",
    "        total += pizzas[eleccion_pizza - 1]['precio']\n",
    "        \n",
    "        print(\"\\nBebidas disponibles:\")\n",
    "        bebidas = modulo3.obtener_bebidas()\n",
    "        for i, bebida in enumerate(bebidas, 1):\n",
    "            print(f\"{i}. {bebida['nombre']} - ${bebida['precio']:.2f}\")\n",
    "        eleccion_bebida = int(input(\"Seleccione su bebida: \"))\n",
    "        orden['bebida'] = bebidas[eleccion_bebida - 1]['nombre']\n",
    "        total += bebidas[eleccion_bebida - 1]['precio']\n",
    "    else:\n",
    "        print(\"Elección no válida.\")\n",
    "        return\n",
    "\n",
    "    \n",
    "    print(\"\\n---RECIBO--\")\n",
    "    print(f\"Cliente: {orden['nombre_cliente']}\")\n",
    "    if orden['tipo'] == \"pizza\":\n",
    "        print(f\"Pedido: Pizza {orden['pizza']}\")\n",
    "    else:\n",
    "        print(f\"Pedido: Combo Pizza {orden['pizza']} + Bebida {orden['bebida']}\")\n",
    "    print(f\"Total: ${total:.2f}\")\n",
    "   \n",
    "\n",
    "sistema_pedido()\n"
   ]
  },
  {
   "cell_type": "code",
   "execution_count": null,
   "id": "17b19a7e",
   "metadata": {},
   "outputs": [],
   "source": []
  },
  {
   "cell_type": "code",
   "execution_count": null,
   "id": "6b5cd11d",
   "metadata": {},
   "outputs": [],
   "source": []
  }
 ],
 "metadata": {
  "kernelspec": {
   "display_name": "Python 3 (ipykernel)",
   "language": "python",
   "name": "python3"
  },
  "language_info": {
   "codemirror_mode": {
    "name": "ipython",
    "version": 3
   },
   "file_extension": ".py",
   "mimetype": "text/x-python",
   "name": "python",
   "nbconvert_exporter": "python",
   "pygments_lexer": "ipython3",
   "version": "3.11.5"
  }
 },
 "nbformat": 4,
 "nbformat_minor": 5
}
